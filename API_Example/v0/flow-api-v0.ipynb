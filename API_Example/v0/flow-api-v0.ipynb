{
 "cells": [
  {
   "cell_type": "code",
   "execution_count": 14,
   "id": "b881fcae",
   "metadata": {},
   "outputs": [],
   "source": [
    "import requests\n",
    "import sys\n",
    "import datetime"
   ]
  },
  {
   "cell_type": "code",
   "execution_count": 15,
   "id": "9433cac4",
   "metadata": {},
   "outputs": [],
   "source": [
    "# This file will demonstrate a simple example of authenticating with the FLOW API \n",
    "# and using the resulting access token to make a request\n",
    "\n",
    "client_id = \"YOUR_CLIENT_ID\"\n",
    "client_secret = \"YOUR_SECRET_KEY\"\n",
    "\n",
    "# This is the URL to which we will send our intial request and recieve a JWT token\n",
    "authentication_url = \"https://www.c3rs.bts.gov/realms/flow-data-realm/protocol/openid-connect/token\""
   ]
  },
  {
   "cell_type": "code",
   "execution_count": 16,
   "id": "47207e23",
   "metadata": {},
   "outputs": [
    {
     "name": "stdout",
     "output_type": "stream",
     "text": [
      "2023-11-09 20:33:43.666560\n"
     ]
    }
   ],
   "source": [
    "# Send a POST request to our authentication URL\n",
    "# Request must have a Content Type of application/x-www-form-urlencoded and set grant_type=client_credentials in the request body\n",
    "print(datetime.datetime.now())\n",
    "body = {'grant_type' : \"client_credentials\"}"
   ]
  },
  {
   "cell_type": "code",
   "execution_count": 17,
   "id": "f0d46708",
   "metadata": {},
   "outputs": [],
   "source": [
    "# Authenticate with client_id and client_secret to acquire Access Token\n",
    "\n",
    "auth_response = requests.post(authentication_url, data=body, auth=(client_id, client_secret))"
   ]
  },
  {
   "cell_type": "code",
   "execution_count": 18,
   "id": "84483d03",
   "metadata": {},
   "outputs": [
    {
     "name": "stdout",
     "output_type": "stream",
     "text": [
      "Authentication successful!\n",
      "{'access_token': 'eyJhbGciOiJSUzI1NiIsInR5cCIgOiAiSldUIiwia2lkIiA6ICJ1OU4xTDFSZmd4b1pFSWRPUzdDQWktM3FhaG1aYWNRNXYwMG1xS0pvcWN3In0.eyJleHAiOjE2OTk2NjY2NTMsImlhdCI6MTY5OTU4MDI1MywianRpIjoiZDljNjBhZGMtYTdkNS00YzE4LWIyNTktZDRmMTM3NDdjYjJlIiwiaXNzIjoiaHR0cDovL2xvY2FsaG9zdDo4MTgwL3JlYWxtcy9mbG93LWRhdGEtcmVhbG0iLCJhdWQiOlsiZmxvdy1kYXRhLWFwaSIsImFjY291bnQiXSwic3ViIjoiYjA2Y2ZiODQtZWMwNS00Mjg5LWIzZjItZWJiNzAxMWRiYjM4IiwidHlwIjoiQmVhcmVyIiwiYXpwIjoiZmxvdy1hcGktbXNjIiwiYWNyIjoiMSIsImFsbG93ZWQtb3JpZ2lucyI6WyIvKiJdLCJyZWFsbV9hY2Nlc3MiOnsicm9sZXMiOlsiZGVmYXVsdC1yb2xlcy1mbG93LWRhdGEtcmVhbG0iLCJvZmZsaW5lX2FjY2VzcyIsInVtYV9hdXRob3JpemF0aW9uIl19LCJyZXNvdXJjZV9hY2Nlc3MiOnsiZmxvdy1hcGktbXNjIjp7InJvbGVzIjpbInVtYV9wcm90ZWN0aW9uIl19LCJhY2NvdW50Ijp7InJvbGVzIjpbIm1hbmFnZS1hY2NvdW50IiwibWFuYWdlLWFjY291bnQtbGlua3MiLCJ2aWV3LXByb2ZpbGUiXX19LCJzY29wZSI6ImZsb3ctYXBpLXNjb3BlIGVtYWlsIHByb2ZpbGUiLCJlbWFpbF92ZXJpZmllZCI6ZmFsc2UsImNsaWVudEhvc3QiOiIxNTIuMTIyLjEuNSIsInByZWZlcnJlZF91c2VybmFtZSI6InNlcnZpY2UtYWNjb3VudC1mbG93LWFwaS1tc2MiLCJjbGllbnRBZGRyZXNzIjoiMTUyLjEyMi4xLjUiLCJjbGllbnRfaWQiOiJmbG93LWFwaS1tc2MifQ.jqjzWLebZxutyJFtFswzzAiX9ad03rZqrX8L22FP2zIO2z5FmOS-a7Wa7rsN-JQK2XK54pi2EkOoHP7iobplJ5O0HIXvk2b3mm-SboqcQ2N6cKyTQ7X0j4Ndsdflgw03fHcIUpvOD1qGbJ5DKdpKfW8oc_F2eUVU7yGtnlcfdxbP7pFVvCPTnoxOkXuuIsrqwJ7QULSOZIaw4NohJrdjcODN1n5lrgTsDAjDSV5Hlwe35vjogNV_m51BzwkNyqvizxCsZUql4YHSDHmKCpY3v3fZnerGb0jkF-1ikm5KCY-Ynl1jX78d1SizRTjMTeBCc98xgAnwdk4HH4ADgsynhg', 'expires_in': 86400, 'refresh_expires_in': 0, 'token_type': 'Bearer', 'not-before-policy': 0, 'scope': 'flow-api-scope email profile'}\n"
     ]
    }
   ],
   "source": [
    "if auth_response.status_code != 200:\n",
    "    print(\"Authentication failed\")\n",
    "    sys.exit(\"Authentication failed - please verify your client ID and secret are correct\")\n",
    "else:\n",
    "    # If the response is good, we have successfully authenticated!\n",
    "    print(\"Authentication successful!\")\n",
    "    print(auth_response.json())"
   ]
  },
  {
   "cell_type": "code",
   "execution_count": 19,
   "id": "949f4eb9",
   "metadata": {},
   "outputs": [
    {
     "name": "stdout",
     "output_type": "stream",
     "text": [
      "eyJhbGciOiJSUzI1NiIsInR5cCIgOiAiSldUIiwia2lkIiA6ICJ1OU4xTDFSZmd4b1pFSWRPUzdDQWktM3FhaG1aYWNRNXYwMG1xS0pvcWN3In0.eyJleHAiOjE2OTk2NjY2NTMsImlhdCI6MTY5OTU4MDI1MywianRpIjoiZDljNjBhZGMtYTdkNS00YzE4LWIyNTktZDRmMTM3NDdjYjJlIiwiaXNzIjoiaHR0cDovL2xvY2FsaG9zdDo4MTgwL3JlYWxtcy9mbG93LWRhdGEtcmVhbG0iLCJhdWQiOlsiZmxvdy1kYXRhLWFwaSIsImFjY291bnQiXSwic3ViIjoiYjA2Y2ZiODQtZWMwNS00Mjg5LWIzZjItZWJiNzAxMWRiYjM4IiwidHlwIjoiQmVhcmVyIiwiYXpwIjoiZmxvdy1hcGktbXNjIiwiYWNyIjoiMSIsImFsbG93ZWQtb3JpZ2lucyI6WyIvKiJdLCJyZWFsbV9hY2Nlc3MiOnsicm9sZXMiOlsiZGVmYXVsdC1yb2xlcy1mbG93LWRhdGEtcmVhbG0iLCJvZmZsaW5lX2FjY2VzcyIsInVtYV9hdXRob3JpemF0aW9uIl19LCJyZXNvdXJjZV9hY2Nlc3MiOnsiZmxvdy1hcGktbXNjIjp7InJvbGVzIjpbInVtYV9wcm90ZWN0aW9uIl19LCJhY2NvdW50Ijp7InJvbGVzIjpbIm1hbmFnZS1hY2NvdW50IiwibWFuYWdlLWFjY291bnQtbGlua3MiLCJ2aWV3LXByb2ZpbGUiXX19LCJzY29wZSI6ImZsb3ctYXBpLXNjb3BlIGVtYWlsIHByb2ZpbGUiLCJlbWFpbF92ZXJpZmllZCI6ZmFsc2UsImNsaWVudEhvc3QiOiIxNTIuMTIyLjEuNSIsInByZWZlcnJlZF91c2VybmFtZSI6InNlcnZpY2UtYWNjb3VudC1mbG93LWFwaS1tc2MiLCJjbGllbnRBZGRyZXNzIjoiMTUyLjEyMi4xLjUiLCJjbGllbnRfaWQiOiJmbG93LWFwaS1tc2MifQ.jqjzWLebZxutyJFtFswzzAiX9ad03rZqrX8L22FP2zIO2z5FmOS-a7Wa7rsN-JQK2XK54pi2EkOoHP7iobplJ5O0HIXvk2b3mm-SboqcQ2N6cKyTQ7X0j4Ndsdflgw03fHcIUpvOD1qGbJ5DKdpKfW8oc_F2eUVU7yGtnlcfdxbP7pFVvCPTnoxOkXuuIsrqwJ7QULSOZIaw4NohJrdjcODN1n5lrgTsDAjDSV5Hlwe35vjogNV_m51BzwkNyqvizxCsZUql4YHSDHmKCpY3v3fZnerGb0jkF-1ikm5KCY-Ynl1jX78d1SizRTjMTeBCc98xgAnwdk4HH4ADgsynhg\n"
     ]
    }
   ],
   "source": [
    "# The response will include a JWT token named 'access_token' which we will include with our API requests\n",
    "access_token = auth_response.json()['access_token']\n",
    "# access_token = \"\"\n",
    "print(access_token)"
   ]
  },
  {
   "cell_type": "code",
   "execution_count": 20,
   "id": "32ce1234",
   "metadata": {},
   "outputs": [
    {
     "name": "stdout",
     "output_type": "stream",
     "text": [
      "2023-11-09 20:33:49.947438\n"
     ]
    }
   ],
   "source": [
    "# With the access token, we are now able to make requests to the API. For these, we will use Bearer authentication\n",
    "print(datetime.datetime.now())  # print time just to know if your token may have expired since authentication.\n",
    "\n",
    "api_request_header = {\"Authorization\": \"Bearer \" + access_token}\n",
    "\n",
    "# Make a sample request to the API for a list of ports\n",
    "# test 1. get the port list \n",
    "api_response = requests.get(\"https://www.c3rs.bts.gov/flow-api/api/v0/port\", headers=api_request_header)"
   ]
  },
  {
   "cell_type": "code",
   "execution_count": 21,
   "id": "a44ba1a3",
   "metadata": {},
   "outputs": [
    {
     "name": "stdout",
     "output_type": "stream",
     "text": [
      "<Response [200]>\n"
     ]
    }
   ],
   "source": [
    "print(api_response)"
   ]
  },
  {
   "cell_type": "code",
   "execution_count": 22,
   "id": "1434334e",
   "metadata": {},
   "outputs": [
    {
     "name": "stdout",
     "output_type": "stream",
     "text": [
      "{'name': None, 'portLocode': 'USSAV', 'supplySignals': ['CHA20', 'DRAY', 'CHA40', 'MTO'], 'demandSignals': ['NVO', 'CBP', 'BCO', 'OC']}\n"
     ]
    }
   ],
   "source": [
    "# test 2. get metadata for port\n",
    "api_response = requests.get(\"https://www.c3rs.bts.gov/flow-api/api/v0/port/USSAV\", headers=api_request_header)\n",
    "# api_response = requests.get(\"https://www.c3rs.bts.gov/flow-api/api/port/USLAX\", headers=api_request_header)\n",
    "# api_response = requests.get(\"https://www.c3rs.bts.gov/flow-api/api/port/USLB\", headers=api_request_header)\n",
    "\n",
    "print(api_response.json())"
   ]
  },
  {
   "cell_type": "code",
   "execution_count": 23,
   "id": "26f32c80",
   "metadata": {},
   "outputs": [
    {
     "name": "stdout",
     "output_type": "stream",
     "text": [
      "{'supplySignal': 'CHA20', 'demandSignal': 'BCO', 'port': 'USSAV', 'days': [{'dateOccurred': '2023-07-02', 'supply': [{'dimension': '20FT', 'value': 3391.0}], 'demand': []}, {'dateOccurred': '2023-07-03', 'supply': [{'dimension': '20FT', 'value': 3391.0}], 'demand': []}, {'dateOccurred': '2023-07-04', 'supply': [{'dimension': '20FT', 'value': 3392.0}], 'demand': []}, {'dateOccurred': '2023-07-05', 'supply': [{'dimension': '20FT', 'value': 3391.0}], 'demand': []}, {'dateOccurred': '2023-07-06', 'supply': [{'dimension': '20FT', 'value': 3404.0}], 'demand': []}, {'dateOccurred': '2023-07-07', 'supply': [{'dimension': '20FT', 'value': 3407.0}], 'demand': []}]}\n"
     ]
    }
   ],
   "source": [
    "# test 3. get daily supply/demand signals\n",
    "api_response = requests.get(\"https://www.c3rs.bts.gov/flow-api/api/v0/port/USSAV/daily?supplySignal=CHA20&demandSignal=BCO&startDate=2023-07-02&endDate=2023-07-08\", headers=api_request_header)\n",
    "\n",
    "# api_response = requests.get(\"https://www.c3rs.bts.gov/flow-api/api/v0/port/USSAV/daily?supplySignal=CHA40&demandSignal=BCO&startDate=2023-07-02&endDate=2023-07-08\", headers=api_request_header)\n",
    "print(api_response.json())"
   ]
  },
  {
   "cell_type": "code",
   "execution_count": null,
   "id": "fc5c1279",
   "metadata": {},
   "outputs": [],
   "source": []
  },
  {
   "cell_type": "code",
   "execution_count": null,
   "id": "7532cea0",
   "metadata": {},
   "outputs": [],
   "source": []
  }
 ],
 "metadata": {
  "kernelspec": {
   "display_name": "Python 3 (ipykernel)",
   "language": "python",
   "name": "python3"
  },
  "language_info": {
   "codemirror_mode": {
    "name": "ipython",
    "version": 3
   },
   "file_extension": ".py",
   "mimetype": "text/x-python",
   "name": "python",
   "nbconvert_exporter": "python",
   "pygments_lexer": "ipython3",
   "version": "3.11.4"
  }
 },
 "nbformat": 4,
 "nbformat_minor": 5
}
